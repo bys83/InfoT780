{
 "cells": [
  {
   "cell_type": "markdown",
   "metadata": {},
   "source": [
    "# DSCI 501: Quantitative Foundations of Data Science<br>Chapter 0.1: System configuration"
   ]
  },
  {
   "cell_type": "markdown",
   "metadata": {},
   "source": [
    "## 0.1 System Configuration\n",
    "We'll be using a few free software technologies throughout this course, mostly doing data science in Python, but with some linux/unix command line tools in the background, at least to set things up. If you do anything before week 1 please be sure to get your system up and running! Before beginning work in this course you are required to set up __Python 3 with Jupyter notebooks__. If you do not yet have this set up in your working environment then please follow with one of the options in section 1.2."
   ]
  },
  {
   "cell_type": "markdown",
   "metadata": {},
   "source": [
    "### 0.1.1 Sign up for a GitHub account\n",
    "\n",
    "Git on its own is a type of version control software that software developers use to maintain a record of the versions of their code. On the other hand, [GitHub](https://www.github.com) is an online socialization of this software that allows teams of programmers to work on code together by maintaining versions in a coordinated repository. Even though we will not use GitHub in this course, it will be useful nonetheless."
   ]
  },
  {
   "cell_type": "markdown",
   "metadata": {},
   "source": [
    "### 0.1.2 Python and Jupyter\n",
    "We will be using the Python programming language for all assignments. However, for its value in typesetting and exposition all work should be in using Jupyter noteboks. Also, since there are still multiple active versions out there, its worth stating right away: __please make sure your installation includes Python version 3.__"
   ]
  },
  {
   "cell_type": "markdown",
   "metadata": {},
   "source": [
    "#### 0.1.2.1 What is Jupyter?\n",
    "In brief, Jupyter is an html-based development environment with extensive markdown capabilities. A Jupyter Notebook is an interactive development interface with language-specific kernels. These allow developers to explore programming with objects held persistently in memory. Python was the flagship language for Jupyter (nee IPython), and has grown around an extensive suite of modules for analysis and visualization. These together with Jupyter make for an excellent suite of tools for exploratory data analysis and data-driven report generation. These lecture notes are being presented as a Jupyter Notebook."
   ]
  },
  {
   "cell_type": "markdown",
   "metadata": {},
   "source": [
    "### 0.1.3 Installing Python and Jupyter (and a command line environment)\n",
    "#### 0.1.3.1 Anaconda: an all-in-one distribution with GUI installer\n",
    "There are a few ways to get set up with Python and Jupyter notebook, and the fastest all-in-one route is probably through the Anaconda distribution:\n",
    "\n",
    "- https://docs.anaconda.com/free/anaconda/install/index.html\n",
    "\n",
    "Anaconda is specifically set up for data science and will come bundled with most of what you need to get going, in terms of modules, etcetera. If you've not done much programming before you might find its GUI installers for multiple operating systems convenient. Note: Anaconda comes with Jupyter."
   ]
  },
  {
   "cell_type": "markdown",
   "metadata": {},
   "source": [
    "#### 0.1.3.2 Setting up a command line environment\n",
    "If you're more adventurous you might like to download your versions of python and manange environments yourself using command line utilities. These differ across operating systems and also might require some setup. Even though we won't be using command line utilities much in this course, and even if you're going to use Anaconda, it's still a good idea to get your working enviornment set up with some helpful command line tools, but its ok if this takes a bit more time to gel. Even though we're working in Jupyter notebooks to learn, explore, share, and prototyle for data science, its still generally best to deploy code in scripts and using bash/shell commands from a command line. \n",
    "\n",
    "To start getting your command line environment set up, here's some operating system specifc routes to follow\n",
    "\n",
    "__On a Mac__ you'll want to download the homebrew package manager:\n",
    "\n",
    "- https://brew.sh/\n",
    "\n",
    "Once you have the `brew` command you'll be able to install different versions of command line utilities (including Python and Jupyter), just like on a linux machine&mdash;the packages are just available from a different package manager/command (`brew`, instead of `apt`). Oftentimes, Mac will have a less nice version of a command line utility, so there some good blog posts out there about replacing the pre-packaged software on a mac:\n",
    "\n",
    "https://www.topbug.net/blog/2013/04/14/install-and-use-gnu-command-line-tools-in-mac-os-x/\n",
    "\n",
    "__On Windows 10__ you'll have to first set up the linux bash shell:\n",
    "\n",
    "- https://www.howtogeek.com/249966/how-to-install-and-use-the-linux-bash-shell-on-windows-10/\n",
    "\n",
    "After setting this up you should be able to run the `apt` command (a package manager) to get the utilities you need (like Python) just as for linux, below.\n",
    "\n",
    "On Linux you'll be able to use `apt-get` from a terminal right away to install software. Here's an old Python 2 tutorial for setting up Jupyter that accurately reflects the process:\n",
    "\n",
    "- https://www.digitalocean.com/community/tutorials/how-to-set-up-a-jupyter-notebook-to-run-ipython-on-ubuntu-16-04\n",
    "\n",
    "A reminder: if you follow any of the above instructions please be sure to modify downloaded/installed versions for Python 3 (not 2) as needed.\n",
    "\n",
    "Once you have you command line environment set up and can use a package manager try downloading a really nice json reader:\n",
    "\n",
    "- https://stedolan.github.io/jq/\n",
    "\n",
    "Try downloading/installing from either of `brew` or `apt`; it's really helpful when want to peek at some data!\n",
    "\n",
    "Also, once you have a command line environment set up its nice to customize. Here's a good blog post about one person's bash profile:\n",
    "\n",
    "- https://natelandau.com/my-mac-osx-bash_profile/\n",
    "\n",
    "Even though this post is about someone's Mac, the general concepts of profiles, `PATH` variables, alias', and hidden files should all translate, regardless of operating systems and shells."
   ]
  }
 ],
 "metadata": {
  "kernelspec": {
   "display_name": "Python 3",
   "language": "python",
   "name": "python3"
  },
  "language_info": {
   "codemirror_mode": {
    "name": "ipython",
    "version": 3
   },
   "file_extension": ".py",
   "mimetype": "text/x-python",
   "name": "python",
   "nbconvert_exporter": "python",
   "pygments_lexer": "ipython3",
   "version": "3.7.3"
  }
 },
 "nbformat": 4,
 "nbformat_minor": 2
}
